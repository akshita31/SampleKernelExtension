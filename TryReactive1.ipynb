{
 "cells": [
  {
   "cell_type": "code",
   "execution_count": 1,
   "metadata": {},
   "outputs": [
    {
     "data": {
      "text/html": [
       "Attempting to install package System.Reactive................................................done!"
      ]
     },
     "metadata": {},
     "output_type": "display_data"
    },
    {
     "data": {
      "text/html": [
       "Successfully added reference to package System.Reactive, version 4.1.6"
      ]
     },
     "metadata": {},
     "output_type": "display_data"
    }
   ],
   "source": [
    "#r \"nuget:System.Reactive\""
   ]
  },
  {
   "cell_type": "code",
   "execution_count": 15,
   "metadata": {},
   "outputs": [],
   "source": [
    "using System;\n",
    "using System.Threading.Tasks;\n",
    "using System.Reactive;\n",
    "using System.Reactive.Linq;"
   ]
  },
  {
   "cell_type": "code",
   "execution_count": 16,
   "metadata": {},
   "outputs": [],
   "source": [
    "private static TimeSpan TimeSelector(int i)    \n",
    "{    \n",
    "    return TimeSpan.FromSeconds(i);    \n",
    "}  "
   ]
  },
  {
   "cell_type": "code",
   "execution_count": 18,
   "metadata": {},
   "outputs": [
    {
     "data": {
      "text/plain": [
       "Press any key to exit!!!\r\n"
      ]
     },
     "metadata": {},
     "output_type": "display_data"
    }
   ],
   "source": [
    "  IObservable<string> obj = Observable.Generate(\n",
    "                0, //Sets the initial value like for loop    \n",
    "                i => i!=5, //Don't stop till i is 5    \n",
    "                i => i + 1, //Increment the counter by 1 everytime    \n",
    "                i => new string('#', i), //Append #    \n",
    "                i => TimeSelector(i)); //delegated this to private method which just calculates time    \n",
    "\n",
    "            // obj.Materialize()\n",
    "            //Subscribe here    \n",
    "            using (obj.Materialize().Subscribe(Console.WriteLine))\n",
    "            {\n",
    "                Console.WriteLine(\"Press any key to exit!!!\");\n",
    "                Console.ReadLine();\n",
    "            }"
   ]
  },
  {
   "cell_type": "code",
   "execution_count": 2,
   "metadata": {},
   "outputs": [
    {
     "data": {
      "text/html": [
       "Attempting to install package SampleExtension............done!"
      ]
     },
     "metadata": {},
     "output_type": "display_data"
    },
    {
     "data": {
      "text/html": [
       "Successfully added reference to package SampleExtension, version 1.0.0"
      ]
     },
     "metadata": {},
     "output_type": "display_data"
    },
    {
     "data": {
      "text/html": [
       "Loading kernel extensions in directory C:\\Users\\akagarw\\.nuget\\packages\\sampleextension\\1.0.0\\interactive-extensions\\dotnet\\cs\\"
      ]
     },
     "metadata": {},
     "output_type": "display_data"
    },
    {
     "ename": "Unhandled Exception",
     "evalue": "System.IO.FileNotFoundException: Could not load file or assembly 'Microsoft.DotNet.Interactive, Version=42.42.42.42, Culture=neutral, PublicKeyToken=31bf3856ad364e35'. The system cannot find the file specified.\r\nFile name: 'Microsoft.DotNet.Interactive, Version=42.42.42.42, Culture=neutral, PublicKeyToken=31bf3856ad364e35'\r\n   at System.Reflection.RuntimeAssembly.GetExportedTypes()\r\n   at System.Reflection.Assembly.get_ExportedTypes()\r\n   at Microsoft.DotNet.Interactive.KernelExtensionLoader.LoadFromAssembly(FileInfo assemblyFile, IKernel kernel, IKernelCommand command, PublishEvent publishEvent)\r\n   at Microsoft.DotNet.Interactive.KernelExtensionLoader.LoadFromAssembliesInDirectory(IDirectoryAccessor directory, IKernel kernel, IKernelCommand command, PublishEvent publishEvent)\r\n   at WorkspaceServer.Kernel.CSharpKernel.LoadExtensionsInDirectory(IDirectoryAccessor directory, KernelInvocationContext context)\r\n   at Microsoft.DotNet.Interactive.KernelBase.<>c__DisplayClass12_0.<<HandleLoadExtensionsInDirectory>b__0>d.MoveNext()\r\n--- End of stack trace from previous location where exception was thrown ---\r\n   at Microsoft.DotNet.Interactive.Commands.KernelCommandBase.InvokeAsync(KernelInvocationContext context)\r\n   at Microsoft.DotNet.Interactive.KernelBase.HandleInternalAsync(IKernelCommand command, KernelInvocationContext context)\r\n   at Microsoft.DotNet.Interactive.KernelCommandPipeline.<BuildPipeline>b__6_0(IKernelCommand command, KernelInvocationContext context, KernelPipelineContinuation _)\r\n   at Microsoft.DotNet.Interactive.KernelBase.HandleLoadExtensionsInDirectory(LoadExtensionsInDirectory loadExtensionsInDirectory, KernelInvocationContext invocationContext, KernelPipelineContinuation next)\r\n   at Microsoft.DotNet.Interactive.KernelBase.<AddSetKernelMiddleware>b__10_0(IKernelCommand command, KernelInvocationContext context, KernelPipelineContinuation next)\r\n   at Microsoft.DotNet.Interactive.KernelCommandPipeline.SendAsync(IKernelCommand command, KernelInvocationContext context)\r\n\r\n",
     "output_type": "error",
     "traceback": []
    },
    {
     "name": "stderr",
     "output_type": "stream",
     "text": [
      "System.IO.FileNotFoundException: Could not load file or assembly 'Microsoft.DotNet.Interactive, Version=42.42.42.42, Culture=neutral, PublicKeyToken=31bf3856ad364e35'. The system cannot find the file specified.\r\n",
      "File name: 'Microsoft.DotNet.Interactive, Version=42.42.42.42, Culture=neutral, PublicKeyToken=31bf3856ad364e35'\r\n",
      "   at System.Reflection.RuntimeAssembly.GetExportedTypes()\r\n",
      "   at System.Reflection.Assembly.get_ExportedTypes()\r\n",
      "   at Microsoft.DotNet.Interactive.KernelExtensionLoader.LoadFromAssembly(FileInfo assemblyFile, IKernel kernel, IKernelCommand command, PublishEvent publishEvent)\r\n",
      "   at Microsoft.DotNet.Interactive.KernelExtensionLoader.LoadFromAssembliesInDirectory(IDirectoryAccessor directory, IKernel kernel, IKernelCommand command, PublishEvent publishEvent)\r\n",
      "   at WorkspaceServer.Kernel.CSharpKernel.LoadExtensionsInDirectory(IDirectoryAccessor directory, KernelInvocationContext context)\r\n",
      "   at Microsoft.DotNet.Interactive.KernelBase.<>c__DisplayClass12_0.<<HandleLoadExtensionsInDirectory>b__0>d.MoveNext()\r\n",
      "--- End of stack trace from previous location where exception was thrown ---\r\n",
      "   at Microsoft.DotNet.Interactive.Commands.KernelCommandBase.InvokeAsync(KernelInvocationContext context)\r\n",
      "   at Microsoft.DotNet.Interactive.KernelBase.HandleInternalAsync(IKernelCommand command, KernelInvocationContext context)\r\n",
      "   at Microsoft.DotNet.Interactive.KernelCommandPipeline.<BuildPipeline>b__6_0(IKernelCommand command, KernelInvocationContext context, KernelPipelineContinuation _)\r\n",
      "   at Microsoft.DotNet.Interactive.KernelBase.HandleLoadExtensionsInDirectory(LoadExtensionsInDirectory loadExtensionsInDirectory, KernelInvocationContext invocationContext, KernelPipelineContinuation next)\r\n",
      "   at Microsoft.DotNet.Interactive.KernelBase.<AddSetKernelMiddleware>b__10_0(IKernelCommand command, KernelInvocationContext context, KernelPipelineContinuation next)\r\n",
      "   at Microsoft.DotNet.Interactive.KernelCommandPipeline.SendAsync(IKernelCommand command, KernelInvocationContext context)\r\n",
      "\r\n"
     ]
    }
   ],
   "source": [
    "#r \"nuget:SampleExtension\""
   ]
  }
 ],
 "metadata": {
  "kernelspec": {
   "display_name": ".NET",
   "language": "c#",
   "name": ".net"
  },
  "language_info": {
   "file_extension": ".cs",
   "mimetype": "text/x-csharp",
   "name": "C#",
   "pygments_lexer": "csharp",
   "version": "7.3"
  }
 },
 "nbformat": 4,
 "nbformat_minor": 2
}
