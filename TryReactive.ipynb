{
 "cells": [
  {
   "cell_type": "code",
   "execution_count": null,
   "metadata": {},
   "outputs": [],
   "source": [
    "#r \"nuget:System.Reactive, 4.1.6\""
   ]
  },
  {
   "cell_type": "code",
   "execution_count": 20,
   "metadata": {},
   "outputs": [],
   "source": [
    "using System;\n",
    "using System.Threading.Tasks;\n",
    "using System.Reactive;\n",
    "using System.Reactive.Concurrency;\n",
    "using System.Reactive.Linq;"
   ]
  },
  {
   "cell_type": "code",
   "execution_count": 21,
   "metadata": {},
   "outputs": [],
   "source": [
    "private static TimeSpan TimeSelector(int i)    \n",
    "        {    \n",
    "            return TimeSpan.FromSeconds(i);    \n",
    "        }  "
   ]
  },
  {
   "cell_type": "code",
   "execution_count": 23,
   "metadata": {},
   "outputs": [
    {
     "data": {
      "text/html": [
       "<table><thead><tr><th>Value</th><th>Exception</th><th>HasValue</th><th>Kind</th></tr></thead><tbody><tr><td>9</td><td>&lt;null&gt;</td><td>True</td><td>{ NotificationKind: value__: 0 }</td></tr></tbody></table>"
      ]
     },
     "metadata": {},
     "output_type": "display_data"
    }
   ],
   "source": [
    "var d = display(\"starting\");\n",
    "var source = Observable.Interval(TimeSpan.FromSeconds(1),CurrentThreadScheduler.Instance);\n",
    "\n",
    "source.Materialize().Take(10).Subscribe(e => d.Update(e));\n",
    "            "
   ]
  },
  {
   "cell_type": "code",
   "execution_count": 1,
   "metadata": {},
   "outputs": [
    {
     "data": {
      "text/html": [
       "Attempting to install package SampleExtension.............................................done!"
      ]
     },
     "metadata": {},
     "output_type": "display_data"
    },
    {
     "data": {
      "text/html": [
       "Successfully added reference to package SampleExtension, version 1.0.0"
      ]
     },
     "metadata": {},
     "output_type": "display_data"
    },
    {
     "data": {
      "text/html": [
       "Loading kernel extensions in directory C:\\Users\\akagarw\\.nuget\\packages\\sampleextension\\1.0.0\\interactive-extensions\\dotnet\\cs\\"
      ]
     },
     "metadata": {},
     "output_type": "display_data"
    },
    {
     "ename": "Unhandled Exception",
     "evalue": "System.IO.FileNotFoundException: Could not load file or assembly 'Microsoft.DotNet.Interactive, Version=1.0.0.0, Culture=neutral, PublicKeyToken=null'. The system cannot find the file specified.\r\nFile name: 'Microsoft.DotNet.Interactive, Version=1.0.0.0, Culture=neutral, PublicKeyToken=null'\r\n   at System.Reflection.RuntimeAssembly.GetExportedTypes()\r\n   at System.Reflection.Assembly.get_ExportedTypes()\r\n   at Microsoft.DotNet.Interactive.KernelExtensionLoader.LoadFromAssembly(FileInfo assemblyFile, IKernel kernel, IKernelCommand command, PublishEvent publishEvent)\r\n   at Microsoft.DotNet.Interactive.KernelExtensionLoader.LoadFromAssembliesInDirectory(IDirectoryAccessor directory, IKernel kernel, IKernelCommand command, PublishEvent publishEvent)\r\n   at WorkspaceServer.Kernel.CSharpKernel.LoadExtensionsInDirectory(IDirectoryAccessor directory, KernelInvocationContext context)\r\n   at Microsoft.DotNet.Interactive.KernelBase.<>c__DisplayClass12_0.<<HandleLoadExtensionsInDirectory>b__0>d.MoveNext()\r\n--- End of stack trace from previous location where exception was thrown ---\r\n   at Microsoft.DotNet.Interactive.Commands.KernelCommandBase.InvokeAsync(KernelInvocationContext context)\r\n   at Microsoft.DotNet.Interactive.KernelBase.HandleInternalAsync(IKernelCommand command, KernelInvocationContext context)\r\n   at Microsoft.DotNet.Interactive.KernelCommandPipeline.<BuildPipeline>b__6_0(IKernelCommand command, KernelInvocationContext context, KernelPipelineContinuation _)\r\n   at Microsoft.DotNet.Interactive.KernelBase.HandleLoadExtensionsInDirectory(LoadExtensionsInDirectory loadExtensionsInDirectory, KernelInvocationContext invocationContext, KernelPipelineContinuation next)\r\n   at Microsoft.DotNet.Interactive.KernelBase.<AddSetKernelMiddleware>b__10_0(IKernelCommand command, KernelInvocationContext context, KernelPipelineContinuation next)\r\n   at Microsoft.DotNet.Interactive.KernelCommandPipeline.SendAsync(IKernelCommand command, KernelInvocationContext context)\r\n\r\n",
     "output_type": "error",
     "traceback": []
    },
    {
     "name": "stderr",
     "output_type": "stream",
     "text": [
      "System.IO.FileNotFoundException: Could not load file or assembly 'Microsoft.DotNet.Interactive, Version=1.0.0.0, Culture=neutral, PublicKeyToken=null'. The system cannot find the file specified.\r\n",
      "File name: 'Microsoft.DotNet.Interactive, Version=1.0.0.0, Culture=neutral, PublicKeyToken=null'\r\n",
      "   at System.Reflection.RuntimeAssembly.GetExportedTypes()\r\n",
      "   at System.Reflection.Assembly.get_ExportedTypes()\r\n",
      "   at Microsoft.DotNet.Interactive.KernelExtensionLoader.LoadFromAssembly(FileInfo assemblyFile, IKernel kernel, IKernelCommand command, PublishEvent publishEvent)\r\n",
      "   at Microsoft.DotNet.Interactive.KernelExtensionLoader.LoadFromAssembliesInDirectory(IDirectoryAccessor directory, IKernel kernel, IKernelCommand command, PublishEvent publishEvent)\r\n",
      "   at WorkspaceServer.Kernel.CSharpKernel.LoadExtensionsInDirectory(IDirectoryAccessor directory, KernelInvocationContext context)\r\n",
      "   at Microsoft.DotNet.Interactive.KernelBase.<>c__DisplayClass12_0.<<HandleLoadExtensionsInDirectory>b__0>d.MoveNext()\r\n",
      "--- End of stack trace from previous location where exception was thrown ---\r\n",
      "   at Microsoft.DotNet.Interactive.Commands.KernelCommandBase.InvokeAsync(KernelInvocationContext context)\r\n",
      "   at Microsoft.DotNet.Interactive.KernelBase.HandleInternalAsync(IKernelCommand command, KernelInvocationContext context)\r\n",
      "   at Microsoft.DotNet.Interactive.KernelCommandPipeline.<BuildPipeline>b__6_0(IKernelCommand command, KernelInvocationContext context, KernelPipelineContinuation _)\r\n",
      "   at Microsoft.DotNet.Interactive.KernelBase.HandleLoadExtensionsInDirectory(LoadExtensionsInDirectory loadExtensionsInDirectory, KernelInvocationContext invocationContext, KernelPipelineContinuation next)\r\n",
      "   at Microsoft.DotNet.Interactive.KernelBase.<AddSetKernelMiddleware>b__10_0(IKernelCommand command, KernelInvocationContext context, KernelPipelineContinuation next)\r\n",
      "   at Microsoft.DotNet.Interactive.KernelCommandPipeline.SendAsync(IKernelCommand command, KernelInvocationContext context)\r\n",
      "\r\n"
     ]
    }
   ],
   "source": [
    "#r \"nuget:SampleExtension\""
   ]
  },
  {
   "cell_type": "code",
   "execution_count": 2,
   "metadata": {},
   "outputs": [
    {
     "ename": "Unhandled Exception",
     "evalue": "(1,1): error CS0103: The name 'trace' does not exist in the current context",
     "output_type": "error",
     "traceback": []
    },
    {
     "name": "stderr",
     "output_type": "stream",
     "text": [
      "(1,1): error CS0103: The name 'trace' does not exist in the current context"
     ]
    }
   ],
   "source": [
    "trace()"
   ]
  }
 ],
 "metadata": {
  "kernelspec": {
   "display_name": ".NET",
   "language": "c#",
   "name": ".net"
  },
  "language_info": {
   "file_extension": ".cs",
   "mimetype": "text/x-csharp",
   "name": "C#",
   "pygments_lexer": "csharp",
   "version": "7.3"
  }
 },
 "nbformat": 4,
 "nbformat_minor": 2
}
