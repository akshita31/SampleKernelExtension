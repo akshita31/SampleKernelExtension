{
 "cells": [
  {
   "cell_type": "code",
   "execution_count": null,
   "metadata": {},
   "outputs": [
    {
     "data": {
      "text/html": [
       "Attempting to install package System.Reactive......done!"
      ]
     },
     "metadata": {},
     "output_type": "display_data"
    },
    {
     "data": {
      "text/html": [
       "Successfully added reference to package System.Reactive, version 4.1.6"
      ]
     },
     "metadata": {},
     "output_type": "display_data"
    }
   ],
   "source": [
    "#r \"nuget:System.Reactive\""
   ]
  },
  {
   "cell_type": "code",
   "execution_count": 15,
   "metadata": {},
   "outputs": [],
   "source": [
    "using System;\n",
    "using System.Threading.Tasks;\n",
    "using System.Reactive;\n",
    "using System.Reactive.Linq;"
   ]
  },
  {
   "cell_type": "code",
   "execution_count": 16,
   "metadata": {},
   "outputs": [],
   "source": [
    "private static TimeSpan TimeSelector(int i)    \n",
    "{    \n",
    "    return TimeSpan.FromSeconds(i);    \n",
    "}  "
   ]
  },
  {
   "cell_type": "code",
   "execution_count": 18,
   "metadata": {},
   "outputs": [
    {
     "data": {
      "text/plain": [
       "Press any key to exit!!!\r\n"
      ]
     },
     "metadata": {},
     "output_type": "display_data"
    }
   ],
   "source": [
    "  IObservable<string> obj = Observable.Generate(\n",
    "                0, //Sets the initial value like for loop    \n",
    "                i => i!=5, //Don't stop till i is 5    \n",
    "                i => i + 1, //Increment the counter by 1 everytime    \n",
    "                i => new string('#', i), //Append #    \n",
    "                i => TimeSelector(i)); //delegated this to private method which just calculates time    \n",
    "\n",
    "            // obj.Materialize()\n",
    "            //Subscribe here    \n",
    "            using (obj.Materialize().Subscribe(Console.WriteLine))\n",
    "            {\n",
    "                Console.WriteLine(\"Press any key to exit!!!\");\n",
    "                Console.ReadLine();\n",
    "            }"
   ]
  },
  {
   "cell_type": "code",
   "execution_count": null,
   "metadata": {},
   "outputs": [
    {
     "data": {
      "text/html": [
       "Attempting to install package SampleExtension...................................................done!"
      ]
     },
     "metadata": {},
     "output_type": "display_data"
    },
    {
     "data": {
      "text/html": [
       "Successfully added reference to package SampleExtension, version 1.0.0"
      ]
     },
     "metadata": {},
     "output_type": "display_data"
    }
   ],
   "source": [
    "#r \"nuget:SampleExtension\""
   ]
  }
 ],
 "metadata": {
  "kernelspec": {
   "display_name": ".NET",
   "language": "c#",
   "name": ".net"
  },
  "language_info": {
   "file_extension": ".cs",
   "mimetype": "text/x-csharp",
   "name": "C#",
   "pygments_lexer": "csharp",
   "version": "7.3"
  }
 },
 "nbformat": 4,
 "nbformat_minor": 2
}
