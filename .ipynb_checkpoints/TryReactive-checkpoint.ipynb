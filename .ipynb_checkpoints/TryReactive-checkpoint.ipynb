{
 "cells": [
  {
   "cell_type": "code",
   "execution_count": null,
   "metadata": {},
   "outputs": [
    {
     "data": {
      "text/html": [
       "Attempting to install package System.Reactive.....................................................................done!"
      ]
     },
     "metadata": {},
     "output_type": "display_data"
    },
    {
     "data": {
      "text/html": [
       "Successfully added reference to package System.Reactive, version 4.1.6"
      ]
     },
     "metadata": {},
     "output_type": "display_data"
    }
   ],
   "source": [
    "#r \"nuget:System.Reactive\""
   ]
  },
  {
   "cell_type": "code",
   "execution_count": 2,
   "metadata": {},
   "outputs": [
    {
     "data": {
      "text/plain": [
       "Hello\r\n"
      ]
     },
     "metadata": {},
     "output_type": "display_data"
    }
   ],
   "source": [
    "Console.WriteLine(\"Hello\");"
   ]
  },
  {
   "cell_type": "code",
   "execution_count": 5,
   "metadata": {},
   "outputs": [
    {
     "ename": "Unhandled Exception",
     "evalue": "(6,22): error CS0103: The name 'TimeSelector' does not exist in the current context",
     "output_type": "error",
     "traceback": []
    },
    {
     "name": "stderr",
     "output_type": "stream",
     "text": [
      "(6,22): error CS0103: The name 'TimeSelector' does not exist in the current context"
     ]
    }
   ],
   "source": [
    "IObservable<string> obj = Observable.Generate(    \n",
    "                0, //Sets the initial value like for loop    \n",
    "                _ => true, //Don't stop till i say so, infinite loop    \n",
    "                i => i + 1, //Increment the counter by 1 everytime    \n",
    "                i => new string('#', i), //Append #    \n",
    "                i => TimeSelector(i)); //delegated this to private method which just calculates time    \n",
    "    \n",
    "            //Subscribe here    \n",
    "            using (obj.Subscribe(Console.WriteLine))    \n",
    "            {    \n",
    "                Console.WriteLine(\"Press any key to exit!!!\");    \n",
    "                Console.ReadLine();    \n",
    "            }    "
   ]
  },
  {
   "cell_type": "code",
   "execution_count": 4,
   "metadata": {},
   "outputs": [],
   "source": [
    "using System;\n",
    "using System.Threading.Tasks;\n",
    "using System.Reactive;\n",
    "using System.Reactive.Linq;"
   ]
  }
 ],
 "metadata": {
  "kernelspec": {
   "display_name": ".NET",
   "language": "c#",
   "name": ".net"
  },
  "language_info": {
   "file_extension": ".cs",
   "mimetype": "text/x-csharp",
   "name": "C#",
   "pygments_lexer": "csharp",
   "version": "7.3"
  }
 },
 "nbformat": 4,
 "nbformat_minor": 2
}
